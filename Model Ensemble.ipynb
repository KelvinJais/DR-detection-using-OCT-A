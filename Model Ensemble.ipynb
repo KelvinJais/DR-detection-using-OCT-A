{
 "cells": [
  {
   "cell_type": "markdown",
   "id": "1443ba5f",
   "metadata": {},
   "source": [
    "# This the file for Model Ensemble for Binary Classification of NoDr and DR"
   ]
  },
  {
   "cell_type": "code",
   "execution_count": 2,
   "id": "7cdaccd9",
   "metadata": {},
   "outputs": [
    {
     "data": {
      "application/javascript": [
       "if (!(\"Notification\" in window)) {\n",
       "    alert(\"This browser does not support desktop notifications, so the %%notify magic will not work.\");\n",
       "} else if (Notification.permission !== 'granted' && Notification.permission !== 'denied') {\n",
       "    Notification.requestPermission(function (permission) {\n",
       "        if(!('permission' in Notification)) {\n",
       "            Notification.permission = permission;\n",
       "        }\n",
       "    })\n",
       "}\n"
      ],
      "text/plain": [
       "<IPython.core.display.Javascript object>"
      ]
     },
     "metadata": {},
     "output_type": "display_data"
    }
   ],
   "source": [
    "%load_ext jupyternotify"
   ]
  },
  {
   "cell_type": "code",
   "execution_count": 3,
   "id": "1e28083d",
   "metadata": {},
   "outputs": [],
   "source": [
    "batch_size=16\n",
    "image_size=256\n",
    "image_shape=(image_size,image_size)\n",
    "train_file_directory='/root/DR_noDR/Training'\n",
    "validation_file_directory='/root/DR_noDR/Validation'\n",
    "alt_train_file_directory='/root/DR-detection-using-OCT-A/train_val_split/Training_no_weights'"
   ]
  },
  {
   "cell_type": "code",
   "execution_count": 4,
   "id": "43905493",
   "metadata": {},
   "outputs": [
    {
     "name": "stdout",
     "output_type": "stream",
     "text": [
      "Found 561 images belonging to 2 classes.\n",
      "Found 561 images belonging to 2 classes.\n",
      "Found 50 images belonging to 2 classes.\n"
     ]
    }
   ],
   "source": [
    "from keras.preprocessing.image import ImageDataGenerator\n",
    "from keras.applications.resnet_v2 import preprocess_input\n",
    "\n",
    "training_datagen = ImageDataGenerator( \n",
    "        preprocessing_function=preprocess_input, # use this only when using VGG16\n",
    "        #rescale=1./255,\n",
    "        rotation_range=45,\n",
    "        shear_range=5,\n",
    "        zoom_range=0.1, \n",
    "        horizontal_flip=True,\n",
    "        vertical_flip=True,\n",
    "        fill_mode='reflect',\n",
    "        )\n",
    "\n",
    "validation_datagen=ImageDataGenerator(\n",
    "    preprocessing_function=preprocess_input,\n",
    "    #rescale=1./255    \n",
    "        )\n",
    "\n",
    "#Creating our generators, no need of changing values here\n",
    "train_generator = training_datagen.flow_from_directory( #Creating our training generator \n",
    "        train_file_directory,  \n",
    "        target_size=image_shape,\n",
    "        batch_size=batch_size,\n",
    "        #color_mode='grayscale',\n",
    "        class_mode='categorical',\n",
    "        shuffle = True,\n",
    "        )\n",
    "\n",
    "validation_generator = validation_datagen.flow_from_directory( #Creating our validation generator\n",
    "        validation_file_directory, \n",
    "        target_size=image_shape, \n",
    "        batch_size=batch_size,\n",
    "        #color_mode='grayscale',\n",
    "        class_mode='categorical',\n",
    "        shuffle = False,\n",
    ")"
   ]
  },
  {
   "cell_type": "code",
   "execution_count": null,
   "id": "e8c1e178",
   "metadata": {},
   "outputs": [],
   "source": [
    "train_generator_validation = training_datagen.flow_from_directory( #Creating our training generator \n",
    "        train_file_directory,  \n",
    "        target_size=image_shape,\n",
    "        batch_size=batch_size,\n",
    "        #color_mode='grayscale',\n",
    "        class_mode='categorical',\n",
    "        shuffle = False,\n",
    "        )"
   ]
  },
  {
   "cell_type": "code",
   "execution_count": null,
   "id": "2d09d289",
   "metadata": {},
   "outputs": [],
   "source": [
    "from keras.models import load_model\n",
    "model1=load_model(\"\")\n",
    "model2=load_model(\"\")"
   ]
  },
  {
   "cell_type": "code",
   "execution_count": null,
   "id": "22335ba3",
   "metadata": {},
   "outputs": [],
   "source": [
    "data_eval=validation_generator\n",
    "model_eval=model1\n",
    "results_model1=model_eval.evaluate_generator(data_eval, steps=len(data_eval.classes)//batch_size)\n",
    "print(\"Loss and accuracy for model1 are\", results_model1)\n",
    "Y_pred_model1 = model_eval.predict_generator(data_eval, steps=len(data_eval.classes)//batch_size+1)"
   ]
  },
  {
   "cell_type": "code",
   "execution_count": null,
   "id": "e99c6288",
   "metadata": {},
   "outputs": [],
   "source": [
    "data_eval=validation_generator\n",
    "model_eval=model2\n",
    "results_model2=model_eval.evaluate_generator(data_eval)\n",
    "print(\"Loss and accuracy for model2 are \", results_model2)\n",
    "Y_pred_model2 = model_eval.predict_generator(data_eval)"
   ]
  }
 ],
 "metadata": {
  "kernelspec": {
   "display_name": "Python 3 (ipykernel)",
   "language": "python",
   "name": "python3"
  },
  "language_info": {
   "codemirror_mode": {
    "name": "ipython",
    "version": 3
   },
   "file_extension": ".py",
   "mimetype": "text/x-python",
   "name": "python",
   "nbconvert_exporter": "python",
   "pygments_lexer": "ipython3",
   "version": "3.8.10"
  }
 },
 "nbformat": 4,
 "nbformat_minor": 5
}
