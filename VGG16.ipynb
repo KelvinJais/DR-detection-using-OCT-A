{
 "cells": [
  {
   "cell_type": "code",
   "execution_count": 2,
   "id": "a5c9267b",
   "metadata": {},
   "outputs": [
    {
     "data": {
      "application/javascript": [
       "if (!(\"Notification\" in window)) {\n",
       "    alert(\"This browser does not support desktop notifications, so the %%notify magic will not work.\");\n",
       "} else if (Notification.permission !== 'granted' && Notification.permission !== 'denied') {\n",
       "    Notification.requestPermission(function (permission) {\n",
       "        if(!('permission' in Notification)) {\n",
       "            Notification.permission = permission;\n",
       "        }\n",
       "    })\n",
       "}\n"
      ],
      "text/plain": [
       "<IPython.core.display.Javascript object>"
      ]
     },
     "metadata": {},
     "output_type": "display_data"
    }
   ],
   "source": [
    "#pip install keras\n",
    "#pip install -U scikit-learn\n",
    "#pip install pillow\n",
    "#pip install matplotlib\n",
    "#pip install jupyternotify\n",
    "%load_ext jupyternotify"
   ]
  },
  {
   "cell_type": "code",
   "execution_count": 3,
   "id": "b7f2be49",
   "metadata": {
    "id": "b7f2be49"
   },
   "outputs": [],
   "source": [
    "from keras.preprocessing.image import ImageDataGenerator\n",
    "from matplotlib import pyplot as plt"
   ]
  },
  {
   "cell_type": "code",
   "execution_count": 4,
   "id": "d57301bb",
   "metadata": {},
   "outputs": [
    {
     "data": {
      "text/plain": [
       "'\\nNotes for tmrw\\n\\nu reduced batch size to 16 and u saw some improvements still plateuing\\nnow ur pissed off coz accuracy is not increasing even though u put 0 data augmentation\\ntmrw I have to look into that'"
      ]
     },
     "execution_count": 4,
     "metadata": {},
     "output_type": "execute_result"
    }
   ],
   "source": [
    "\"\"\"\n",
    "Notes for tmrw\n",
    "\n",
    "u reduced batch size to 16 and u saw some improvements still plateuing\n",
    "now ur pissed off coz accuracy is not increasing even though u put 0 data augmentation\n",
    "tmrw I have to look into that\"\"\""
   ]
  },
  {
   "cell_type": "markdown",
   "id": "2ae6748d",
   "metadata": {},
   "source": [
    "## Variables Being Used"
   ]
  },
  {
   "cell_type": "code",
   "execution_count": 5,
   "id": "05de364f",
   "metadata": {
    "id": "05de364f"
   },
   "outputs": [],
   "source": [
    "#variables being used\n",
    "batch_size=32\n",
    "#val_split=0.2 #20 percent validation\n",
    "image_size=512 \n",
    "image_shape=(image_size,image_size)\n",
    "#file_directory='/root/DR no aug'\n",
    "#file_directory='/root/01DR_noDR'\n",
    "train_file_directory='/root/DR-detection-using-OCT-A/train_val_split/Training'\n",
    "validation_file_directory='/root/DR-detection-using-OCT-A/train_val_split/Validation'\n",
    "alt_train_file_directory='/root/DR-detection-using-OCT-A/train_val_split/Training_no_weights'"
   ]
  },
  {
   "cell_type": "code",
   "execution_count": 6,
   "id": "45d96060",
   "metadata": {},
   "outputs": [
    {
     "name": "stdout",
     "output_type": "stream",
     "text": [
      "Sun Apr  2 08:12:42 2023       \r\n",
      "+-----------------------------------------------------------------------------+\r\n",
      "| NVIDIA-SMI 525.89.02    Driver Version: 525.89.02    CUDA Version: 12.0     |\r\n",
      "|-------------------------------+----------------------+----------------------+\r\n",
      "| GPU  Name        Persistence-M| Bus-Id        Disp.A | Volatile Uncorr. ECC |\r\n",
      "| Fan  Temp  Perf  Pwr:Usage/Cap|         Memory-Usage | GPU-Util  Compute M. |\r\n",
      "|                               |                      |               MIG M. |\r\n",
      "|===============================+======================+======================|\r\n",
      "|   0  NVIDIA GeForce ...  On   | 00000000:01:00.0 Off |                  N/A |\r\n",
      "| 37%   36C    P8    26W / 420W |      0MiB / 24576MiB |      0%      Default |\r\n",
      "|                               |                      |                  N/A |\r\n",
      "+-------------------------------+----------------------+----------------------+\r\n",
      "                                                                               \r\n",
      "+-----------------------------------------------------------------------------+\r\n",
      "| Processes:                                                                  |\r\n",
      "|  GPU   GI   CI        PID   Type   Process name                  GPU Memory |\r\n",
      "|        ID   ID                                                   Usage      |\r\n",
      "|=============================================================================|\r\n",
      "|  No running processes found                                                 |\r\n",
      "+-----------------------------------------------------------------------------+\r\n"
     ]
    }
   ],
   "source": [
    "!nvidia-smi"
   ]
  },
  {
   "cell_type": "markdown",
   "id": "d897703e",
   "metadata": {},
   "source": [
    "## Importing Datasets"
   ]
  },
  {
   "cell_type": "code",
   "execution_count": 7,
   "id": "Xb_glLxJFLJx",
   "metadata": {
    "colab": {
     "base_uri": "https://localhost:8080/"
    },
    "id": "Xb_glLxJFLJx",
    "outputId": "8ccfce96-16b0-48ac-9b95-bb14553781f8"
   },
   "outputs": [
    {
     "name": "stdout",
     "output_type": "stream",
     "text": [
      "Found 561 images belonging to 3 classes.\n",
      "Found 50 images belonging to 3 classes.\n"
     ]
    }
   ],
   "source": [
    "\n",
    "from keras.applications.vgg16 import preprocess_input #for that vgg16\n",
    "#import tensorflow as tf\n",
    "\n",
    "#from keras.applications.Xception import preprocess_input\n",
    "\n",
    "training_datagen = ImageDataGenerator( \n",
    "        preprocessing_function=preprocess_input, # use this only when using VGG16\n",
    "        #rescale=1./255,\n",
    "        #rotation_range=15,#can change this\n",
    "        #shear_range=0.1,#can change this\n",
    "        #zoom_range=0.1, #can change this\n",
    "        #horizontal_flip=True,\n",
    "        #fill_mode='constant',# constant,reflect,wrap,\n",
    "        )\n",
    "\n",
    "validation_datagen=ImageDataGenerator(\n",
    "    preprocessing_function=preprocess_input,\n",
    "    #rescale=1./255    \n",
    "        )\n",
    "\n",
    "#Creating our generators, no need of changing values here\n",
    "train_generator = training_datagen.flow_from_directory( #Creating our training generator \n",
    "        train_file_directory,  \n",
    "        target_size=image_shape,\n",
    "        batch_size=batch_size,\n",
    "        #color_mode='grayscale',\n",
    "        class_mode='categorical',\n",
    "        shuffle = False,\n",
    "        )\n",
    "\n",
    "validation_generator = validation_datagen.flow_from_directory( #Creating our validation generator\n",
    "        validation_file_directory, \n",
    "        target_size=image_shape, \n",
    "        batch_size=batch_size,\n",
    "        #color_mode='grayscale',\n",
    "        class_mode='categorical',\n",
    "        shuffle = False,\n",
    ")"
   ]
  },
  {
   "cell_type": "markdown",
   "id": "f6422a47",
   "metadata": {},
   "source": [
    "## Displaying Images"
   ]
  },
  {
   "cell_type": "code",
   "execution_count": 8,
   "id": "DnUk-pHd8cOu",
   "metadata": {
    "colab": {
     "base_uri": "https://localhost:8080/",
     "height": 53
    },
    "id": "DnUk-pHd8cOu",
    "outputId": "80c8e722-4ed8-4a12-d8e0-b7885b1edc12"
   },
   "outputs": [
    {
     "data": {
      "text/plain": [
       "\"fig, axs=plt.subplots(ncols=4, figsize=(20,20))\\nfor i in range(4):\\n  axs[i].imshow(train_generator[i][0][0], cmap='gray', vmin=0, vmax=1)\\n#axs[0].plt.show()\""
      ]
     },
     "execution_count": 8,
     "metadata": {},
     "output_type": "execute_result"
    }
   ],
   "source": [
    "# Enable/Disable to see 4 random images\n",
    "\"\"\"fig, axs=plt.subplots(ncols=4, figsize=(20,20))\n",
    "for i in range(4):\n",
    "  axs[i].imshow(train_generator[i][0][0], cmap='gray', vmin=0, vmax=1)\n",
    "#axs[0].plt.show()\"\"\""
   ]
  },
  {
   "cell_type": "markdown",
   "id": "a9656c44",
   "metadata": {},
   "source": [
    "## Creating weights"
   ]
  },
  {
   "cell_type": "code",
   "execution_count": 9,
   "id": "ifmyrLuZQNdN",
   "metadata": {
    "colab": {
     "base_uri": "https://localhost:8080/"
    },
    "id": "ifmyrLuZQNdN",
    "outputId": "7907662f-b44b-42ec-9d36-91afc3c375aa"
   },
   "outputs": [
    {
     "name": "stdout",
     "output_type": "stream",
     "text": [
      "{0: 0.6051779935275081, 1: 0.9739583333333334, 2: 3.1166666666666667}\n"
     ]
    }
   ],
   "source": [
    "import numpy as np ## Calculating the class weights\n",
    "from sklearn.utils.class_weight import compute_class_weight\n",
    "\n",
    "class_weighing = compute_class_weight(class_weight='balanced', classes=np.unique(train_generator.classes), y=train_generator.classes)\n",
    "class_weights=dict(zip(np.unique(train_generator.classes), class_weighing))\n",
    "\n",
    "print(class_weights)"
   ]
  },
  {
   "cell_type": "markdown",
   "id": "83392058",
   "metadata": {},
   "source": [
    "## Creating Model"
   ]
  },
  {
   "cell_type": "code",
   "execution_count": 10,
   "id": "32d0cb57",
   "metadata": {},
   "outputs": [],
   "source": [
    "from keras.preprocessing.image import ImageDataGenerator\n",
    "from keras.models import Sequential,Model\n",
    "from keras.layers import Conv2D, MaxPooling2D,BatchNormalization\n",
    "from keras.layers import Activation, Dropout, Flatten, Dense,GlobalAveragePooling2D\n",
    "from keras.optimizers import SGD\n",
    "import keras"
   ]
  },
  {
   "cell_type": "code",
   "execution_count": 57,
   "id": "202a44ad",
   "metadata": {
    "colab": {
     "base_uri": "https://localhost:8080/",
     "height": 209
    },
    "id": "202a44ad",
    "outputId": "85e84d50-9fda-46f3-88df-fb8f1808d99a"
   },
   "outputs": [
    {
     "name": "stdout",
     "output_type": "stream",
     "text": [
      "Model: \"model_3\"\n",
      "_________________________________________________________________\n",
      " Layer (type)                Output Shape              Param #   \n",
      "=================================================================\n",
      " input_8 (InputLayer)        [(None, 512, 512, 3)]     0         \n",
      "                                                                 \n",
      " vgg16 (Functional)          (None, 16, 16, 512)       14714688  \n",
      "|¯¯¯¯¯¯¯¯¯¯¯¯¯¯¯¯¯¯¯¯¯¯¯¯¯¯¯¯¯¯¯¯¯¯¯¯¯¯¯¯¯¯¯¯¯¯¯¯¯¯¯¯¯¯¯¯¯¯¯¯¯¯¯|\n",
      "| input_7 (InputLayer)      [(None, 512, 512, 3)]     0         |\n",
      "|                                                               |\n",
      "| block1_conv1 (Conv2D)     (None, 512, 512, 64)      1792      |\n",
      "|                                                               |\n",
      "| block1_conv2 (Conv2D)     (None, 512, 512, 64)      36928     |\n",
      "|                                                               |\n",
      "| block1_pool (MaxPooling2D)  (None, 256, 256, 64)    0         |\n",
      "|                                                               |\n",
      "| block2_conv1 (Conv2D)     (None, 256, 256, 128)     73856     |\n",
      "|                                                               |\n",
      "| block2_conv2 (Conv2D)     (None, 256, 256, 128)     147584    |\n",
      "|                                                               |\n",
      "| block2_pool (MaxPooling2D)  (None, 128, 128, 128)   0         |\n",
      "|                                                               |\n",
      "| block3_conv1 (Conv2D)     (None, 128, 128, 256)     295168    |\n",
      "|                                                               |\n",
      "| block3_conv2 (Conv2D)     (None, 128, 128, 256)     590080    |\n",
      "|                                                               |\n",
      "| block3_conv3 (Conv2D)     (None, 128, 128, 256)     590080    |\n",
      "|                                                               |\n",
      "| block3_pool (MaxPooling2D)  (None, 64, 64, 256)     0         |\n",
      "|                                                               |\n",
      "| block4_conv1 (Conv2D)     (None, 64, 64, 512)       1180160   |\n",
      "|                                                               |\n",
      "| block4_conv2 (Conv2D)     (None, 64, 64, 512)       2359808   |\n",
      "|                                                               |\n",
      "| block4_conv3 (Conv2D)     (None, 64, 64, 512)       2359808   |\n",
      "|                                                               |\n",
      "| block4_pool (MaxPooling2D)  (None, 32, 32, 512)     0         |\n",
      "|                                                               |\n",
      "| block5_conv1 (Conv2D)     (None, 32, 32, 512)       2359808   |\n",
      "|                                                               |\n",
      "| block5_conv2 (Conv2D)     (None, 32, 32, 512)       2359808   |\n",
      "|                                                               |\n",
      "| block5_conv3 (Conv2D)     (None, 32, 32, 512)       2359808   |\n",
      "|                                                               |\n",
      "| block5_pool (MaxPooling2D)  (None, 16, 16, 512)     0         |\n",
      "¯¯¯¯¯¯¯¯¯¯¯¯¯¯¯¯¯¯¯¯¯¯¯¯¯¯¯¯¯¯¯¯¯¯¯¯¯¯¯¯¯¯¯¯¯¯¯¯¯¯¯¯¯¯¯¯¯¯¯¯¯¯¯¯¯\n",
      " global_average_pooling2d_3   (None, 512)              0         \n",
      " (GlobalAveragePooling2D)                                        \n",
      "                                                                 \n",
      " dropout_9 (Dropout)         (None, 512)               0         \n",
      "                                                                 \n",
      " dense_25 (Dense)            (None, 100)               51300     \n",
      "                                                                 \n",
      " dense_26 (Dense)            (None, 50)                5050      \n",
      "                                                                 \n",
      " dense_27 (Dense)            (None, 3)                 153       \n",
      "                                                                 \n",
      "=================================================================\n",
      "Total params: 14,771,191\n",
      "Trainable params: 56,503\n",
      "Non-trainable params: 14,714,688\n",
      "_________________________________________________________________\n"
     ]
    }
   ],
   "source": [
    "base_model = keras.applications.VGG16(\n",
    "    weights='imagenet',\n",
    "    input_shape=(image_size, image_size, 3),\n",
    "    include_top=False)\n",
    "\n",
    "base_model.trainable = False\n",
    "inputs = keras.Input(shape=(image_size, image_size, 3))\n",
    "\n",
    "#for layer in base_model.layers[:15]:\n",
    "#   layer.trainable = False\n",
    "#for layer in base_model.layers[15:]:\n",
    "#   layer.trainable = True\n",
    "\n",
    "x = base_model(inputs)\n",
    "\n",
    "x = keras.layers.GlobalAveragePooling2D()(x)\n",
    "x = keras.layers.Dropout(0.15)(x)  # Regularize with dropout\n",
    "x=keras.layers.Dense(100)(x)\n",
    "x=keras.layers.Dense(50)(x)\n",
    "outputs = keras.layers.Dense(3)(x)\n",
    "model = keras.Model(inputs, outputs)\n",
    "\n",
    "\n",
    "model.summary(expand_nested=True)"
   ]
  },
  {
   "cell_type": "markdown",
   "id": "cebce2e3",
   "metadata": {},
   "source": [
    "### Compile"
   ]
  },
  {
   "cell_type": "code",
   "execution_count": 58,
   "id": "KBU3llMXJ7fU",
   "metadata": {
    "id": "KBU3llMXJ7fU"
   },
   "outputs": [],
   "source": [
    "model.compile(optimizer=keras.optimizers.SGD(learning_rate=0.001), #SGD or adam\n",
    "              loss='categorical_crossentropy' ,\n",
    "              metrics=['accuracy'])"
   ]
  },
  {
   "cell_type": "markdown",
   "id": "676434ca",
   "metadata": {},
   "source": [
    "### Generating Callbacks"
   ]
  },
  {
   "cell_type": "code",
   "execution_count": 59,
   "id": "S9fAKukkNu8U",
   "metadata": {
    "id": "S9fAKukkNu8U"
   },
   "outputs": [],
   "source": [
    "from keras.callbacks import ModelCheckpoint, EarlyStopping\n",
    "\n",
    "filepath=\"/root/DR-detection-using-OCT-A/saved_models/VGG16_{val_accuracy:.2f}_{epoch:02d}.hdf5\"\n",
    "\n",
    "checkpoint= ModelCheckpoint(filepath,monitor='val_accuracy',verbose=0,save_best_only=True,mode='max')\n",
    "early_stop=EarlyStopping(monitor='val_accuracy',patience=100,verbose=0) #only change patience\n",
    "\n",
    "callback_list=[checkpoint,early_stop]#add the callbacks used"
   ]
  },
  {
   "cell_type": "markdown",
   "id": "18164a26",
   "metadata": {},
   "source": [
    "### Model.Fit()"
   ]
  },
  {
   "cell_type": "code",
   "execution_count": 60,
   "id": "AKvvQGGHK9Ew",
   "metadata": {
    "colab": {
     "base_uri": "https://localhost:8080/"
    },
    "id": "AKvvQGGHK9Ew",
    "outputId": "0abf91fb-43f0-4b3c-a6e8-862d660cd52d",
    "scrolled": true
   },
   "outputs": [
    {
     "name": "stdout",
     "output_type": "stream",
     "text": [
      "Epoch 1/300\n"
     ]
    },
    {
     "name": "stderr",
     "output_type": "stream",
     "text": [
      "2023-04-02 09:30:44.961464: I tensorflow/core/common_runtime/executor.cc:1197] [/device:CPU:0] (DEBUG INFO) Executor start aborting (this does not indicate an error and you can ignore this message): INVALID_ARGUMENT: You must feed a value for placeholder tensor 'Placeholder/_0' with dtype int32\n",
      "\t [[{{node Placeholder/_0}}]]\n"
     ]
    },
    {
     "name": "stdout",
     "output_type": "stream",
     "text": [
      "17/17 [==============================] - ETA: 0s - loss: 6.4829 - accuracy: 0.3819"
     ]
    },
    {
     "name": "stderr",
     "output_type": "stream",
     "text": [
      "2023-04-02 09:30:51.963889: I tensorflow/core/common_runtime/executor.cc:1197] [/device:CPU:0] (DEBUG INFO) Executor start aborting (this does not indicate an error and you can ignore this message): INVALID_ARGUMENT: You must feed a value for placeholder tensor 'Placeholder/_0' with dtype int32\n",
      "\t [[{{node Placeholder/_0}}]]\n"
     ]
    },
    {
     "name": "stdout",
     "output_type": "stream",
     "text": [
      "17/17 [==============================] - 8s 426ms/step - loss: 6.4829 - accuracy: 0.3819 - val_loss: 0.3000 - val_accuracy: 0.5312\n",
      "Epoch 2/300\n",
      "17/17 [==============================] - 7s 393ms/step - loss: 5.8732 - accuracy: 0.3951 - val_loss: 0.0056 - val_accuracy: 0.5312\n",
      "Epoch 3/300\n",
      "17/17 [==============================] - 7s 396ms/step - loss: 5.4118 - accuracy: 0.4008 - val_loss: 1.0075 - val_accuracy: 0.5312\n",
      "Epoch 4/300\n",
      "17/17 [==============================] - 7s 391ms/step - loss: 5.3956 - accuracy: 0.4442 - val_loss: 2.0148 - val_accuracy: 0.5312\n",
      "Epoch 5/300\n",
      "17/17 [==============================] - 7s 401ms/step - loss: 6.3221 - accuracy: 0.4449 - val_loss: 3.5258 - val_accuracy: 0.5000\n",
      "Epoch 6/300\n",
      "17/17 [==============================] - 7s 392ms/step - loss: 6.8623 - accuracy: 0.4102 - val_loss: 4.0295 - val_accuracy: 0.5312\n",
      "Epoch 7/300\n",
      "17/17 [==============================] - 7s 393ms/step - loss: 8.7542 - accuracy: 0.4367 - val_loss: 4.5332 - val_accuracy: 0.5312\n",
      "Epoch 8/300\n",
      "17/17 [==============================] - 7s 394ms/step - loss: 8.1531 - accuracy: 0.3989 - val_loss: 7.0517 - val_accuracy: 0.4688\n",
      "Epoch 9/300\n",
      "17/17 [==============================] - 7s 395ms/step - loss: 8.4993 - accuracy: 0.3932 - val_loss: 8.0590 - val_accuracy: 0.3438\n",
      "Epoch 10/300\n",
      "17/17 [==============================] - 7s 393ms/step - loss: 7.8383 - accuracy: 0.3289 - val_loss: 6.1043 - val_accuracy: 0.3750\n",
      "Epoch 11/300\n",
      "17/17 [==============================] - 7s 393ms/step - loss: 5.7587 - accuracy: 0.3629 - val_loss: 6.0448 - val_accuracy: 0.3750\n",
      "Epoch 12/300\n",
      "17/17 [==============================] - 7s 394ms/step - loss: 5.9974 - accuracy: 0.3629 - val_loss: 6.5480 - val_accuracy: 0.3750\n",
      "Epoch 13/300\n",
      "17/17 [==============================] - 7s 393ms/step - loss: 5.5676 - accuracy: 0.3025 - val_loss: 7.5554 - val_accuracy: 0.3750\n",
      "Epoch 14/300\n",
      "17/17 [==============================] - 7s 398ms/step - loss: 6.1228 - accuracy: 0.3629 - val_loss: 8.5627 - val_accuracy: 0.3750\n",
      "Epoch 15/300\n",
      "17/17 [==============================] - 7s 394ms/step - loss: 6.4430 - accuracy: 0.3025 - val_loss: 9.0664 - val_accuracy: 0.3750\n",
      "Epoch 16/300\n",
      "17/17 [==============================] - 7s 393ms/step - loss: 6.6408 - accuracy: 0.3629 - val_loss: 9.5701 - val_accuracy: 0.3750\n",
      "Epoch 17/300\n",
      "17/17 [==============================] - 7s 392ms/step - loss: 6.7776 - accuracy: 0.3629 - val_loss: 11.0812 - val_accuracy: 0.3750\n",
      "Epoch 18/300\n",
      "17/17 [==============================] - 7s 394ms/step - loss: 7.1051 - accuracy: 0.3629 - val_loss: 12.5923 - val_accuracy: 0.3750\n",
      "Epoch 19/300\n",
      "17/17 [==============================] - 7s 394ms/step - loss: 6.7642 - accuracy: 0.3025 - val_loss: 12.0886 - val_accuracy: 0.3750\n",
      "Epoch 20/300\n",
      "17/17 [==============================] - 7s 392ms/step - loss: 7.2508 - accuracy: 0.3422 - val_loss: 12.0886 - val_accuracy: 0.3750\n",
      "Epoch 21/300\n",
      "17/17 [==============================] - 7s 396ms/step - loss: 6.6523 - accuracy: 0.3025 - val_loss: 12.0886 - val_accuracy: 0.3750\n",
      "Epoch 22/300\n",
      "17/17 [==============================] - 7s 394ms/step - loss: 7.5788 - accuracy: 0.3629 - val_loss: 12.0886 - val_accuracy: 0.3750\n",
      "Epoch 23/300\n",
      "17/17 [==============================] - 7s 392ms/step - loss: 7.6032 - accuracy: 0.3629 - val_loss: 11.5849 - val_accuracy: 0.3750\n",
      "Epoch 24/300\n",
      "17/17 [==============================] - 7s 394ms/step - loss: 8.0833 - accuracy: 0.3629 - val_loss: 11.5849 - val_accuracy: 0.3750\n",
      "Epoch 25/300\n",
      "17/17 [==============================] - 7s 394ms/step - loss: 7.2410 - accuracy: 0.3233 - val_loss: 11.5849 - val_accuracy: 0.3750\n",
      "Epoch 26/300\n",
      "17/17 [==============================] - 7s 407ms/step - loss: 8.6631 - accuracy: 0.3629 - val_loss: 11.5849 - val_accuracy: 0.3750\n",
      "Epoch 27/300\n",
      "17/17 [==============================] - 7s 391ms/step - loss: 7.5000 - accuracy: 0.3629 - val_loss: 11.5849 - val_accuracy: 0.3750\n",
      "Epoch 28/300\n",
      "17/17 [==============================] - 7s 396ms/step - loss: 7.2242 - accuracy: 0.3629 - val_loss: 11.5849 - val_accuracy: 0.3750\n",
      "Epoch 29/300\n",
      "17/17 [==============================] - 7s 391ms/step - loss: 7.8266 - accuracy: 0.3629 - val_loss: 12.0886 - val_accuracy: 0.3750\n",
      "Epoch 30/300\n",
      "17/17 [==============================] - 7s 393ms/step - loss: 7.9758 - accuracy: 0.3629 - val_loss: 12.0886 - val_accuracy: 0.3750\n",
      "Epoch 31/300\n",
      "17/17 [==============================] - 7s 420ms/step - loss: 7.3875 - accuracy: 0.3629 - val_loss: 12.0886 - val_accuracy: 0.3750\n",
      "Epoch 32/300\n",
      "17/17 [==============================] - 7s 396ms/step - loss: 6.4227 - accuracy: 0.4367 - val_loss: 0.2535 - val_accuracy: 0.6250\n",
      "Epoch 33/300\n",
      "17/17 [==============================] - 7s 393ms/step - loss: 4.7975 - accuracy: 0.5577 - val_loss: 0.1225 - val_accuracy: 0.6250\n",
      "Epoch 34/300\n",
      "17/17 [==============================] - 7s 397ms/step - loss: 5.7676 - accuracy: 0.5274 - val_loss: 0.0337 - val_accuracy: 0.6562\n",
      "Epoch 35/300\n",
      "17/17 [==============================] - 7s 395ms/step - loss: 5.7252 - accuracy: 0.5161 - val_loss: 0.0053 - val_accuracy: 0.6562\n",
      "Epoch 36/300\n",
      "17/17 [==============================] - 7s 395ms/step - loss: 5.7379 - accuracy: 0.5066 - val_loss: 0.0020 - val_accuracy: 0.6562\n",
      "Epoch 37/300\n",
      "17/17 [==============================] - 7s 392ms/step - loss: 2.7748 - accuracy: 0.5180 - val_loss: 1.1921e-07 - val_accuracy: 0.5938\n",
      "Epoch 38/300\n",
      "17/17 [==============================] - 7s 393ms/step - loss: 5.8935 - accuracy: 0.4915 - val_loss: 1.1921e-07 - val_accuracy: 0.5938\n",
      "Epoch 39/300\n",
      "17/17 [==============================] - 7s 397ms/step - loss: 5.7682 - accuracy: 0.4820 - val_loss: 1.1921e-07 - val_accuracy: 0.6250\n",
      "Epoch 40/300\n",
      "17/17 [==============================] - 7s 392ms/step - loss: 5.8563 - accuracy: 0.4783 - val_loss: 1.1921e-07 - val_accuracy: 0.5938\n",
      "Epoch 41/300\n",
      "17/17 [==============================] - 7s 396ms/step - loss: 5.8518 - accuracy: 0.4764 - val_loss: 1.1921e-07 - val_accuracy: 0.5312\n",
      "Epoch 42/300\n",
      "17/17 [==============================] - 7s 392ms/step - loss: 5.8146 - accuracy: 0.4839 - val_loss: 1.1921e-07 - val_accuracy: 0.5312\n",
      "Epoch 43/300\n",
      "17/17 [==============================] - 7s 404ms/step - loss: 4.1879 - accuracy: 0.4853 - val_loss: 1.1921e-07 - val_accuracy: 0.5312\n",
      "Epoch 44/300\n",
      "17/17 [==============================] - 7s 393ms/step - loss: 5.8980 - accuracy: 0.4594 - val_loss: 1.1921e-07 - val_accuracy: 0.5312\n",
      "Epoch 45/300\n",
      "17/17 [==============================] - 7s 393ms/step - loss: 4.8398 - accuracy: 0.4726 - val_loss: 1.1921e-07 - val_accuracy: 0.5312\n",
      "Epoch 46/300\n",
      "17/17 [==============================] - 7s 394ms/step - loss: 4.7333 - accuracy: 0.4537 - val_loss: 1.1921e-07 - val_accuracy: 0.5312\n",
      "Epoch 47/300\n",
      "17/17 [==============================] - 7s 395ms/step - loss: 5.6723 - accuracy: 0.4537 - val_loss: 1.1921e-07 - val_accuracy: 0.5312\n",
      "Epoch 48/300\n",
      "17/17 [==============================] - 7s 393ms/step - loss: 5.9203 - accuracy: 0.4802 - val_loss: 1.1921e-07 - val_accuracy: 0.5312\n",
      "Epoch 49/300\n",
      "17/17 [==============================] - 7s 395ms/step - loss: 5.7635 - accuracy: 0.4877 - val_loss: 1.1921e-07 - val_accuracy: 0.5312\n",
      "Epoch 50/300\n",
      "17/17 [==============================] - 7s 390ms/step - loss: 6.0050 - accuracy: 0.4310 - val_loss: 1.1921e-07 - val_accuracy: 0.5312\n",
      "Epoch 51/300\n",
      "17/17 [==============================] - 7s 393ms/step - loss: 5.9037 - accuracy: 0.4556 - val_loss: 1.1921e-07 - val_accuracy: 0.5312\n",
      "Epoch 52/300\n",
      "17/17 [==============================] - 7s 403ms/step - loss: 4.2241 - accuracy: 0.4724 - val_loss: 1.1921e-07 - val_accuracy: 0.5312\n",
      "Epoch 53/300\n",
      "17/17 [==============================] - 7s 395ms/step - loss: 3.0271 - accuracy: 0.5009 - val_loss: 1.1921e-07 - val_accuracy: 0.5000\n",
      "Epoch 54/300\n",
      "17/17 [==============================] - 7s 409ms/step - loss: 6.0656 - accuracy: 0.4669 - val_loss: 1.1921e-07 - val_accuracy: 0.5000\n",
      "Epoch 55/300\n",
      "17/17 [==============================] - 7s 408ms/step - loss: 6.0667 - accuracy: 0.4518 - val_loss: 1.1921e-07 - val_accuracy: 0.5000\n",
      "Epoch 56/300\n",
      "17/17 [==============================] - 7s 394ms/step - loss: 6.0601 - accuracy: 0.4480 - val_loss: 1.1921e-07 - val_accuracy: 0.5000\n",
      "Epoch 57/300\n",
      "17/17 [==============================] - 7s 394ms/step - loss: 5.7760 - accuracy: 0.4367 - val_loss: 1.1921e-07 - val_accuracy: 0.5000\n",
      "Epoch 58/300\n",
      "17/17 [==============================] - 7s 397ms/step - loss: 5.7148 - accuracy: 0.4612 - val_loss: 1.1921e-07 - val_accuracy: 0.5000\n",
      "Epoch 59/300\n",
      "17/17 [==============================] - 7s 394ms/step - loss: 6.1308 - accuracy: 0.4518 - val_loss: 1.1921e-07 - val_accuracy: 0.5000\n",
      "Epoch 60/300\n",
      "17/17 [==============================] - 7s 392ms/step - loss: 5.8822 - accuracy: 0.4499 - val_loss: 1.1921e-07 - val_accuracy: 0.5000\n",
      "Epoch 61/300\n",
      "17/17 [==============================] - 7s 391ms/step - loss: 4.7036 - accuracy: 0.4348 - val_loss: 1.1921e-07 - val_accuracy: 0.5000\n",
      "Epoch 62/300\n",
      "17/17 [==============================] - 7s 393ms/step - loss: 6.2190 - accuracy: 0.4612 - val_loss: 1.1921e-07 - val_accuracy: 0.5312\n",
      "Epoch 63/300\n",
      "17/17 [==============================] - 7s 393ms/step - loss: 5.9851 - accuracy: 0.4480 - val_loss: 1.1921e-07 - val_accuracy: 0.5312\n",
      "Epoch 64/300\n",
      "17/17 [==============================] - 7s 391ms/step - loss: 5.0661 - accuracy: 0.4612 - val_loss: 1.1921e-07 - val_accuracy: 0.5312\n",
      "Epoch 65/300\n",
      "17/17 [==============================] - 7s 393ms/step - loss: 6.0365 - accuracy: 0.4348 - val_loss: 1.1921e-07 - val_accuracy: 0.5312\n",
      "Epoch 66/300\n",
      "17/17 [==============================] - 7s 396ms/step - loss: 6.1680 - accuracy: 0.4631 - val_loss: 1.1921e-07 - val_accuracy: 0.5625\n",
      "Epoch 67/300\n",
      "17/17 [==============================] - 7s 407ms/step - loss: 6.1861 - accuracy: 0.4348 - val_loss: 1.1921e-07 - val_accuracy: 0.5625\n",
      "Epoch 68/300\n",
      "17/17 [==============================] - 7s 405ms/step - loss: 4.5028 - accuracy: 0.4522 - val_loss: 1.1921e-07 - val_accuracy: 0.5625\n",
      "Epoch 69/300\n",
      "17/17 [==============================] - 7s 393ms/step - loss: 5.6536 - accuracy: 0.3913 - val_loss: 1.1921e-07 - val_accuracy: 0.5625\n",
      "Epoch 70/300\n",
      "17/17 [==============================] - 7s 391ms/step - loss: 6.0581 - accuracy: 0.4348 - val_loss: 1.1921e-07 - val_accuracy: 0.5625\n",
      "Epoch 71/300\n",
      "17/17 [==============================] - 7s 395ms/step - loss: 5.7558 - accuracy: 0.4026 - val_loss: 1.1921e-07 - val_accuracy: 0.5625\n",
      "Epoch 72/300\n",
      "17/17 [==============================] - 7s 393ms/step - loss: 6.1227 - accuracy: 0.4121 - val_loss: 1.1921e-07 - val_accuracy: 0.5625\n",
      "Epoch 73/300\n",
      "17/17 [==============================] - 7s 398ms/step - loss: 5.9006 - accuracy: 0.4348 - val_loss: 1.1921e-07 - val_accuracy: 0.5625\n",
      "Epoch 74/300\n",
      "17/17 [==============================] - 7s 394ms/step - loss: 5.9770 - accuracy: 0.4423 - val_loss: 1.1921e-07 - val_accuracy: 0.5625\n",
      "Epoch 75/300\n",
      "17/17 [==============================] - 7s 391ms/step - loss: 6.3949 - accuracy: 0.4140 - val_loss: 1.1921e-07 - val_accuracy: 0.5625\n",
      "Epoch 76/300\n",
      "17/17 [==============================] - 7s 396ms/step - loss: 6.0368 - accuracy: 0.4216 - val_loss: 1.1921e-07 - val_accuracy: 0.5625\n",
      "Epoch 77/300\n",
      "17/17 [==============================] - 7s 402ms/step - loss: 4.6808 - accuracy: 0.4430 - val_loss: 1.1921e-07 - val_accuracy: 0.5625\n",
      "Epoch 78/300\n",
      "17/17 [==============================] - 7s 392ms/step - loss: 6.3530 - accuracy: 0.4121 - val_loss: 1.1921e-07 - val_accuracy: 0.5625\n",
      "Epoch 79/300\n",
      "17/17 [==============================] - 7s 394ms/step - loss: 3.0595 - accuracy: 0.4556 - val_loss: 1.1921e-07 - val_accuracy: 0.5625\n",
      "Epoch 80/300\n",
      "17/17 [==============================] - 7s 391ms/step - loss: 5.6856 - accuracy: 0.4234 - val_loss: 1.1921e-07 - val_accuracy: 0.5625\n",
      "Epoch 81/300\n",
      "17/17 [==============================] - 7s 395ms/step - loss: 5.8724 - accuracy: 0.4310 - val_loss: 1.1921e-07 - val_accuracy: 0.5625\n",
      "Epoch 82/300\n",
      "17/17 [==============================] - 7s 389ms/step - loss: 5.8836 - accuracy: 0.4405 - val_loss: 1.1921e-07 - val_accuracy: 0.5625\n",
      "Epoch 83/300\n",
      "17/17 [==============================] - 7s 392ms/step - loss: 6.3712 - accuracy: 0.4272 - val_loss: 1.1921e-07 - val_accuracy: 0.5625\n",
      "Epoch 84/300\n",
      "17/17 [==============================] - 7s 392ms/step - loss: 6.1883 - accuracy: 0.4310 - val_loss: 1.1921e-07 - val_accuracy: 0.5625\n",
      "Epoch 85/300\n",
      "17/17 [==============================] - 7s 395ms/step - loss: 6.1786 - accuracy: 0.4480 - val_loss: 1.1921e-07 - val_accuracy: 0.5625\n",
      "Epoch 86/300\n",
      "17/17 [==============================] - 7s 391ms/step - loss: 6.1093 - accuracy: 0.4348 - val_loss: 1.1921e-07 - val_accuracy: 0.5625\n",
      "Epoch 87/300\n",
      "17/17 [==============================] - 7s 393ms/step - loss: 5.8842 - accuracy: 0.4291 - val_loss: 1.1921e-07 - val_accuracy: 0.5625\n",
      "Epoch 88/300\n",
      "17/17 [==============================] - 7s 391ms/step - loss: 6.2162 - accuracy: 0.4556 - val_loss: 1.1921e-07 - val_accuracy: 0.5625\n",
      "Epoch 89/300\n",
      "17/17 [==============================] - 7s 394ms/step - loss: 5.6798 - accuracy: 0.4045 - val_loss: 1.1921e-07 - val_accuracy: 0.5625\n",
      "Epoch 90/300\n",
      "17/17 [==============================] - 7s 398ms/step - loss: 6.0281 - accuracy: 0.4348 - val_loss: 1.1921e-07 - val_accuracy: 0.5625\n",
      "Epoch 91/300\n",
      "17/17 [==============================] - 7s 394ms/step - loss: 3.1214 - accuracy: 0.4688 - val_loss: 1.1921e-07 - val_accuracy: 0.5625\n",
      "Epoch 92/300\n",
      "17/17 [==============================] - 7s 397ms/step - loss: 5.1663 - accuracy: 0.3989 - val_loss: 1.1921e-07 - val_accuracy: 0.5625\n",
      "Epoch 93/300\n",
      "17/17 [==============================] - 7s 393ms/step - loss: 6.5591 - accuracy: 0.4783 - val_loss: 1.1921e-07 - val_accuracy: 0.5625\n",
      "Epoch 94/300\n",
      "17/17 [==============================] - 7s 397ms/step - loss: 5.8043 - accuracy: 0.4329 - val_loss: 1.1921e-07 - val_accuracy: 0.5625\n",
      "Epoch 95/300\n",
      "17/17 [==============================] - 7s 393ms/step - loss: 6.2036 - accuracy: 0.4234 - val_loss: 1.1921e-07 - val_accuracy: 0.5625\n",
      "Epoch 96/300\n",
      "17/17 [==============================] - 7s 393ms/step - loss: 6.1943 - accuracy: 0.4291 - val_loss: 1.1921e-07 - val_accuracy: 0.5625\n",
      "Epoch 97/300\n",
      "17/17 [==============================] - 7s 393ms/step - loss: 4.9641 - accuracy: 0.4140 - val_loss: 1.1921e-07 - val_accuracy: 0.5625\n",
      "Epoch 98/300\n",
      "17/17 [==============================] - 7s 407ms/step - loss: 4.6039 - accuracy: 0.4412 - val_loss: 1.1921e-07 - val_accuracy: 0.5625\n",
      "Epoch 99/300\n",
      "17/17 [==============================] - 7s 394ms/step - loss: 6.0680 - accuracy: 0.3989 - val_loss: 1.1921e-07 - val_accuracy: 0.5625\n",
      "Epoch 100/300\n",
      "17/17 [==============================] - 7s 391ms/step - loss: 6.3683 - accuracy: 0.3837 - val_loss: 1.1921e-07 - val_accuracy: 0.5625\n",
      "Epoch 101/300\n",
      "17/17 [==============================] - 7s 396ms/step - loss: 4.9110 - accuracy: 0.4367 - val_loss: 1.1921e-07 - val_accuracy: 0.5625\n",
      "Epoch 102/300\n",
      "17/17 [==============================] - 7s 393ms/step - loss: 6.0408 - accuracy: 0.4594 - val_loss: 1.1921e-07 - val_accuracy: 0.5625\n",
      "Epoch 103/300\n",
      "17/17 [==============================] - 7s 395ms/step - loss: 6.2645 - accuracy: 0.4121 - val_loss: 1.1921e-07 - val_accuracy: 0.5625\n",
      "Epoch 104/300\n",
      "17/17 [==============================] - 7s 397ms/step - loss: 6.0678 - accuracy: 0.4272 - val_loss: 1.1921e-07 - val_accuracy: 0.5625\n",
      "Epoch 105/300\n",
      "17/17 [==============================] - 7s 393ms/step - loss: 5.6710 - accuracy: 0.4461 - val_loss: 1.1921e-07 - val_accuracy: 0.5625\n",
      "Epoch 106/300\n",
      "17/17 [==============================] - 7s 393ms/step - loss: 6.0494 - accuracy: 0.4064 - val_loss: 1.1921e-07 - val_accuracy: 0.5625\n",
      "Epoch 107/300\n",
      "17/17 [==============================] - 7s 394ms/step - loss: 5.8619 - accuracy: 0.4083 - val_loss: 1.1921e-07 - val_accuracy: 0.5625\n",
      "Epoch 108/300\n",
      "17/17 [==============================] - 7s 395ms/step - loss: 5.8566 - accuracy: 0.3989 - val_loss: 1.1921e-07 - val_accuracy: 0.5625\n",
      "Epoch 109/300\n",
      "17/17 [==============================] - 7s 395ms/step - loss: 6.1140 - accuracy: 0.4612 - val_loss: 1.1921e-07 - val_accuracy: 0.5625\n",
      "Epoch 110/300\n",
      "17/17 [==============================] - 7s 392ms/step - loss: 6.4083 - accuracy: 0.4310 - val_loss: 1.1921e-07 - val_accuracy: 0.5625\n",
      "Epoch 111/300\n",
      "17/17 [==============================] - 7s 395ms/step - loss: 6.2036 - accuracy: 0.4537 - val_loss: 1.1921e-07 - val_accuracy: 0.5312\n",
      "Epoch 112/300\n",
      "17/17 [==============================] - 7s 390ms/step - loss: 6.3882 - accuracy: 0.3800 - val_loss: 1.1921e-07 - val_accuracy: 0.5312\n",
      "Epoch 113/300\n",
      "17/17 [==============================] - 7s 394ms/step - loss: 3.6826 - accuracy: 0.4594 - val_loss: 1.1921e-07 - val_accuracy: 0.5312\n",
      "Epoch 114/300\n",
      "17/17 [==============================] - 7s 394ms/step - loss: 6.1594 - accuracy: 0.4178 - val_loss: 1.1921e-07 - val_accuracy: 0.5312\n",
      "Epoch 115/300\n",
      "17/17 [==============================] - 7s 393ms/step - loss: 6.2842 - accuracy: 0.4405 - val_loss: 1.1921e-07 - val_accuracy: 0.5312\n",
      "Epoch 116/300\n",
      "17/17 [==============================] - 7s 395ms/step - loss: 5.2926 - accuracy: 0.4008 - val_loss: 1.1921e-07 - val_accuracy: 0.5312\n",
      "Epoch 117/300\n",
      "17/17 [==============================] - 7s 394ms/step - loss: 6.2997 - accuracy: 0.4480 - val_loss: 1.1921e-07 - val_accuracy: 0.5312\n",
      "Epoch 118/300\n",
      "17/17 [==============================] - 7s 393ms/step - loss: 6.5941 - accuracy: 0.3932 - val_loss: 1.1921e-07 - val_accuracy: 0.5312\n",
      "Epoch 119/300\n",
      "17/17 [==============================] - 7s 393ms/step - loss: 5.2893 - accuracy: 0.4216 - val_loss: 1.1921e-07 - val_accuracy: 0.5312\n",
      "Epoch 120/300\n",
      "17/17 [==============================] - 7s 392ms/step - loss: 5.2909 - accuracy: 0.4121 - val_loss: 1.1921e-07 - val_accuracy: 0.5312\n",
      "Epoch 121/300\n",
      "17/17 [==============================] - 7s 393ms/step - loss: 5.7458 - accuracy: 0.4159 - val_loss: 1.1921e-07 - val_accuracy: 0.5312\n",
      "Epoch 122/300\n",
      "17/17 [==============================] - 7s 394ms/step - loss: 6.4303 - accuracy: 0.4083 - val_loss: 1.1921e-07 - val_accuracy: 0.5312\n",
      "Epoch 123/300\n",
      "17/17 [==============================] - 7s 396ms/step - loss: 6.8145 - accuracy: 0.4178 - val_loss: 1.1921e-07 - val_accuracy: 0.5312\n",
      "Epoch 124/300\n",
      "17/17 [==============================] - 7s 393ms/step - loss: 5.5921 - accuracy: 0.4367 - val_loss: 1.1921e-07 - val_accuracy: 0.5312\n",
      "Epoch 125/300\n",
      "17/17 [==============================] - 7s 392ms/step - loss: 6.2833 - accuracy: 0.4197 - val_loss: 1.1921e-07 - val_accuracy: 0.5312\n",
      "Epoch 126/300\n",
      "17/17 [==============================] - 7s 395ms/step - loss: 6.8031 - accuracy: 0.4499 - val_loss: 1.1921e-07 - val_accuracy: 0.5312\n",
      "Epoch 127/300\n",
      "17/17 [==============================] - 7s 394ms/step - loss: 5.6428 - accuracy: 0.3913 - val_loss: 1.1921e-07 - val_accuracy: 0.5312\n",
      "Epoch 128/300\n",
      "17/17 [==============================] - 7s 392ms/step - loss: 6.5845 - accuracy: 0.4234 - val_loss: 1.1921e-07 - val_accuracy: 0.5312\n",
      "Epoch 129/300\n",
      "17/17 [==============================] - 7s 409ms/step - loss: 6.6961 - accuracy: 0.3989 - val_loss: 1.1921e-07 - val_accuracy: 0.5312\n",
      "Epoch 130/300\n",
      "17/17 [==============================] - 7s 393ms/step - loss: 6.1553 - accuracy: 0.4064 - val_loss: 1.1921e-07 - val_accuracy: 0.5312\n",
      "Epoch 131/300\n",
      "17/17 [==============================] - 7s 396ms/step - loss: 6.3366 - accuracy: 0.4216 - val_loss: 1.1921e-07 - val_accuracy: 0.5312\n",
      "Epoch 132/300\n",
      "17/17 [==============================] - 7s 395ms/step - loss: 6.1854 - accuracy: 0.3667 - val_loss: 1.1921e-07 - val_accuracy: 0.5312\n",
      "Epoch 133/300\n",
      "17/17 [==============================] - 7s 394ms/step - loss: 6.0219 - accuracy: 0.4008 - val_loss: 1.1921e-07 - val_accuracy: 0.5312\n",
      "Epoch 134/300\n",
      "17/17 [==============================] - 7s 408ms/step - loss: 6.4319 - accuracy: 0.4216 - val_loss: 1.1921e-07 - val_accuracy: 0.5312\n",
      "Done bro\n"
     ]
    },
    {
     "data": {
      "application/javascript": [
       "$(document).ready(\n",
       "    function() {\n",
       "        function appendUniqueDiv(){\n",
       "            // append a div with our uuid so we can check that it's already\n",
       "            // been sent and avoid duplicates on page reload\n",
       "            var notifiedDiv = document.createElement(\"div\")\n",
       "            notifiedDiv.id = \"c07a8bb2-4509-4fc2-8677-c6d52a048916\"\n",
       "            element.append(notifiedDiv)\n",
       "        }\n",
       "\n",
       "        // only send notifications if the pageload is complete; this will\n",
       "        // help stop extra notifications when a saved notebook is loaded,\n",
       "        // which during testing gives us state \"interactive\", not \"complete\"\n",
       "        if (document.readyState === 'complete') {\n",
       "            // check for the div that signifies that the notification\n",
       "            // was already sent\n",
       "            if (document.getElementById(\"c07a8bb2-4509-4fc2-8677-c6d52a048916\") === null) {\n",
       "                var notificationPayload = {\"requireInteraction\": false, \"icon\": \"/static/base/images/favicon.ico\", \"body\": \"Cell execution has finished!\"};\n",
       "                if (Notification.permission !== 'denied') {\n",
       "                    if (Notification.permission !== 'granted') { \n",
       "                        Notification.requestPermission(function (permission) {\n",
       "                            if(!('permission' in Notification)) {\n",
       "                                Notification.permission = permission\n",
       "                            }\n",
       "                        })\n",
       "                    }\n",
       "                    if (Notification.permission === 'granted') {\n",
       "                    var notification = new Notification(\"Jupyter Notebook\", notificationPayload)\n",
       "                    appendUniqueDiv()\n",
       "                    notification.onclick = function () {\n",
       "                        window.focus();\n",
       "                        this.close();\n",
       "                        };\n",
       "                    } \n",
       "                }     \n",
       "            }\n",
       "        }\n",
       "    }\n",
       ")\n"
      ],
      "text/plain": [
       "<IPython.core.display.Javascript object>"
      ]
     },
     "metadata": {},
     "output_type": "display_data"
    }
   ],
   "source": [
    "%%notify\n",
    "history=model.fit(\n",
    "        train_generator,\n",
    "        steps_per_epoch=len(train_generator.classes)//batch_size,\n",
    "        verbose=1, \n",
    "        epochs=300,  #change this\n",
    "        validation_data=validation_generator,\n",
    "        validation_steps=len(validation_generator.classes)//batch_size,\n",
    "        callbacks=callback_list,\n",
    "        class_weight=class_weights\n",
    ")\n",
    "print(\"Done bro\")"
   ]
  },
  {
   "cell_type": "markdown",
   "id": "53bbb010",
   "metadata": {},
   "source": [
    "### Curves"
   ]
  },
  {
   "cell_type": "code",
   "execution_count": 61,
   "id": "Bm4aFTAGXxZG",
   "metadata": {
    "id": "Bm4aFTAGXxZG"
   },
   "outputs": [
    {
     "data": {
      "image/png": "[encoded data removed]",
      "text/plain": [
       "<Figure size 1500x500 with 2 Axes>"
      ]
     },
     "metadata": {},
     "output_type": "display_data"
    }
   ],
   "source": [
    "#loss curve\n",
    "fig, axs=plt.subplots(ncols=2,figsize=(15, 5))#, figsize=(20,20))\n",
    "loss = history.history['loss']\n",
    "val_loss = history.history['val_loss']\n",
    "epochs = range(1, len(loss) + 1)\n",
    "axs[0].plot(epochs, loss, 'y', label='Training loss')\n",
    "axs[0].plot(epochs, val_loss, 'r', label='Validation loss')\n",
    "axs[0].set(title='Loss', xlabel='Epochs', ylabel='Epochs');\n",
    "\n",
    "#accuracy curve\n",
    "acc = history.history['accuracy']\n",
    "val_acc = history.history['val_accuracy']\n",
    "axs[1].plot(epochs, acc, 'y', label='Training acc')\n",
    "axs[1].plot(epochs, val_acc, 'r', label='Validation acc')\n",
    "axs[1].set(title='Accuracy', xlabel='Epochs', ylabel='Epochs');"
   ]
  },
  {
   "cell_type": "code",
   "execution_count": null,
   "id": "80ad9955",
   "metadata": {
    "scrolled": true
   },
   "outputs": [],
   "source": [
    "\"\"\"prediction_classes = np.array([])\n",
    "true_classes =  np.array([])\n",
    "i=0\n",
    "for x, y in validation_generator:\n",
    "    if i==len(validation_generator.classes):\n",
    "        break    \n",
    "    i=i+1\n",
    "    prediction_classes = np.concatenate([prediction_classes,np.argmax(model.predict(x,verbose=0), axis = -1)])\n",
    "    true_classes = np.concatenate([true_classes, np.argmax(y, axis=-1)])\n",
    "print(classification_report(true_classes, prediction_classes))\"\"\""
   ]
  },
  {
   "cell_type": "code",
   "execution_count": null,
   "id": "28026f26",
   "metadata": {},
   "outputs": [],
   "source": [
    "#model.save('to_continue.h5')\n",
    "#continue_model=load_model('to_continue.h5')"
   ]
  },
  {
   "cell_type": "markdown",
   "id": "b4ed3a7c",
   "metadata": {},
   "source": [
    "## Evaluating Model"
   ]
  },
  {
   "cell_type": "code",
   "execution_count": null,
   "id": "c9152a48",
   "metadata": {},
   "outputs": [],
   "source": [
    "from keras.models import load_model\n",
    "from sklearn.metrics import classification_report, confusion_matrix\n",
    "from sklearn.metrics import ConfusionMatrixDisplay\n",
    "import numpy as np\n",
    "\n",
    "#model = load_model('/root/44-0.82.hdf5')"
   ]
  },
  {
   "cell_type": "code",
   "execution_count": null,
   "id": "8076d565",
   "metadata": {},
   "outputs": [],
   "source": [
    "#new_model=load_model(\".hdf5\")"
   ]
  },
  {
   "cell_type": "code",
   "execution_count": null,
   "id": "1uTXxiYXZ8Tl",
   "metadata": {
    "id": "1uTXxiYXZ8Tl",
    "scrolled": false
   },
   "outputs": [],
   "source": [
    "data_eval=validation_generator\n",
    "model_eval=model\n",
    "results=model_eval.evaluate_generator(data_eval, steps=len(data_eval.classes)//batch_size)\n",
    "print(\"Loss and accuracy are\", results)\n",
    "Y_pred = model_eval.predict_generator(data_eval, steps=len(data_eval.classes)//batch_size+1)\n",
    "#print(train_generator.classes)\n",
    "y_pred = np.argmax(Y_pred, axis=1)\n",
    "#print(train_generator.classes)\n",
    "#print(y_pred)\n",
    "#print(X)\n",
    "        \n",
    "print('Confusion Matrix')\n",
    "cm=confusion_matrix(data_eval.classes,y_pred)\n",
    "target_names = ['NoDR', 'mildDR','seriousDR']\n",
    "disp = ConfusionMatrixDisplay(confusion_matrix=cm, display_labels=target_names)\n",
    "disp.plot(cmap=plt.cm.Blues)\n",
    "plt.show()\n",
    "\n",
    "print('Classification Report')\n",
    "\n",
    "print(classification_report(data_eval.classes,y_pred, target_names=target_names))"
   ]
  }
 ],
 "metadata": {
  "accelerator": "GPU",
  "colab": {
   "provenance": []
  },
  "gpuClass": "standard",
  "kernelspec": {
   "display_name": "Python 3 (ipykernel)",
   "language": "python",
   "name": "python3"
  },
  "language_info": {
   "codemirror_mode": {
    "name": "ipython",
    "version": 3
   },
   "file_extension": ".py",
   "mimetype": "text/x-python",
   "name": "python",
   "nbconvert_exporter": "python",
   "pygments_lexer": "ipython3",
   "version": "3.8.10"
  }
 },
 "nbformat": 4,
 "nbformat_minor": 5
}
