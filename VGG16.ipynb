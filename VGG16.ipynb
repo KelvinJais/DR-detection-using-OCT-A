{
 "cells": [
  {
   "cell_type": "code",
   "execution_count": 16,
   "id": "a5c9267b",
   "metadata": {},
   "outputs": [
    {
     "name": "stdout",
     "output_type": "stream",
     "text": [
      "The jupyternotify extension is already loaded. To reload it, use:\n",
      "  %reload_ext jupyternotify\n"
     ]
    }
   ],
   "source": [
    "#pip install keras\n",
    "#pip install -U scikit-learn\n",
    "#pip install pillow\n",
    "#pip install matplotlib\n",
    "#pip install jupyternotify\n",
    "#unzip DR\\ no\\ aug\n",
    "%load_ext jupyternotify"
   ]
  },
  {
   "cell_type": "code",
   "execution_count": 17,
   "id": "b7f2be49",
   "metadata": {
    "id": "b7f2be49"
   },
   "outputs": [],
   "source": [
    "from keras.preprocessing.image import ImageDataGenerator\n",
    "from matplotlib import pyplot as plt"
   ]
  },
  {
   "cell_type": "code",
   "execution_count": null,
   "id": "d57301bb",
   "metadata": {},
   "outputs": [],
   "source": [
    "\"\"\"\n",
    "Notes for tmrw\n",
    "\n",
    "u reduced batch size to 16 and u saw some improvements still plateuing\n",
    "now ur pissed off coz accuracy is not increasing even though u put 0 data augmentation\n",
    "tmrw I have to look into that\"\"\""
   ]
  },
  {
   "cell_type": "markdown",
   "id": "2ae6748d",
   "metadata": {},
   "source": [
    "## Variables Being Used"
   ]
  },
  {
   "cell_type": "code",
   "execution_count": 43,
   "id": "05de364f",
   "metadata": {
    "id": "05de364f"
   },
   "outputs": [],
   "source": [
    "#variables being used\n",
    "batch_size=16\n",
    "#val_split=0.2 #20 percent validation\n",
    "image_size=512 \n",
    "image_shape=(image_size,image_size)\n",
    "#file_directory='/root/DR no aug'\n",
    "#file_directory='/root/01DR_noDR'\n",
    "train_file_directory='/root/DR-detection-using-OCT-A/train_val_split/Training'\n",
    "validation_file_directory='/root/DR-detection-using-OCT-A/train_val_split/Validation'\n",
    "alt_train_file_directory='/root/DR-detection-using-OCT-A/train_val_split/Training_no_weights'"
   ]
  },
  {
   "cell_type": "code",
   "execution_count": 44,
   "id": "45d96060",
   "metadata": {},
   "outputs": [
    {
     "name": "stdout",
     "output_type": "stream",
     "text": [
      "Sat Apr  1 20:56:25 2023       \r\n",
      "+-----------------------------------------------------------------------------+\r\n",
      "| NVIDIA-SMI 525.85.12    Driver Version: 525.85.12    CUDA Version: 12.0     |\r\n",
      "|-------------------------------+----------------------+----------------------+\r\n",
      "| GPU  Name        Persistence-M| Bus-Id        Disp.A | Volatile Uncorr. ECC |\r\n",
      "| Fan  Temp  Perf  Pwr:Usage/Cap|         Memory-Usage | GPU-Util  Compute M. |\r\n",
      "|                               |                      |               MIG M. |\r\n",
      "|===============================+======================+======================|\r\n",
      "|   0  NVIDIA GeForce ...  On   | 00000000:61:00.0 Off |                  Off |\r\n",
      "| 30%   30C    P2    66W / 450W |  23403MiB / 24564MiB |      0%      Default |\r\n",
      "|                               |                      |                  N/A |\r\n",
      "+-------------------------------+----------------------+----------------------+\r\n",
      "                                                                               \r\n",
      "+-----------------------------------------------------------------------------+\r\n",
      "| Processes:                                                                  |\r\n",
      "|  GPU   GI   CI        PID   Type   Process name                  GPU Memory |\r\n",
      "|        ID   ID                                                   Usage      |\r\n",
      "|=============================================================================|\r\n",
      "+-----------------------------------------------------------------------------+\r\n"
     ]
    }
   ],
   "source": [
    "!nvidia-smi"
   ]
  },
  {
   "cell_type": "markdown",
   "id": "d897703e",
   "metadata": {},
   "source": [
    "## Importing Datasets"
   ]
  },
  {
   "cell_type": "code",
   "execution_count": 61,
   "id": "Xb_glLxJFLJx",
   "metadata": {
    "colab": {
     "base_uri": "https://localhost:8080/"
    },
    "id": "Xb_glLxJFLJx",
    "outputId": "8ccfce96-16b0-48ac-9b95-bb14553781f8"
   },
   "outputs": [
    {
     "name": "stdout",
     "output_type": "stream",
     "text": [
      "Found 561 images belonging to 3 classes.\n",
      "Found 50 images belonging to 3 classes.\n"
     ]
    }
   ],
   "source": [
    "\n",
    "from keras.applications.vgg16 import preprocess_input #for that vgg16\n",
    "#import tensorflow as tf\n",
    "\n",
    "#from keras.applications.Xception import preprocess_input\n",
    "\n",
    "training_datagen = ImageDataGenerator( \n",
    "        preprocessing_function=preprocess_input, # use this only when using VGG16\n",
    "        #rescale=1./255,\n",
    "        #rotation_range=15,#can change this\n",
    "        #shear_range=0.1,#can change this\n",
    "        #zoom_range=0.1, #can change this\n",
    "        #horizontal_flip=True,\n",
    "        #fill_mode='constant',# constant,reflect,wrap,\n",
    "        )\n",
    "\n",
    "validation_datagen=ImageDataGenerator(\n",
    "    preprocessing_function=preprocess_input,\n",
    "    #rescale=1./255    \n",
    "        )\n",
    "\n",
    "#Creating our generators, no need of changing values here\n",
    "train_generator = training_datagen.flow_from_directory( #Creating our training generator \n",
    "        train_file_directory,  \n",
    "        target_size=image_shape,\n",
    "        batch_size=batch_size,\n",
    "        #color_mode='grayscale',\n",
    "        class_mode='categorical',\n",
    "        shuffle = False,\n",
    "        )\n",
    "\n",
    "validation_generator = validation_datagen.flow_from_directory( #Creating our validation generator\n",
    "        validation_file_directory, \n",
    "        target_size=image_shape, \n",
    "        batch_size=batch_size,\n",
    "        #color_mode='grayscale',\n",
    "        class_mode='categorical',\n",
    "        shuffle = False,\n",
    ")"
   ]
  },
  {
   "cell_type": "markdown",
   "id": "f6422a47",
   "metadata": {},
   "source": [
    "## Displaying Images"
   ]
  },
  {
   "cell_type": "code",
   "execution_count": 62,
   "id": "DnUk-pHd8cOu",
   "metadata": {
    "colab": {
     "base_uri": "https://localhost:8080/",
     "height": 53
    },
    "id": "DnUk-pHd8cOu",
    "outputId": "80c8e722-4ed8-4a12-d8e0-b7885b1edc12"
   },
   "outputs": [
    {
     "data": {
      "text/plain": [
       "\"fig, axs=plt.subplots(ncols=4, figsize=(20,20))\\nfor i in range(4):\\n  axs[i].imshow(train_generator[i][0][0], cmap='gray', vmin=0, vmax=1)\\n#axs[0].plt.show()\""
      ]
     },
     "execution_count": 62,
     "metadata": {},
     "output_type": "execute_result"
    }
   ],
   "source": [
    "# Enable/Disable to see 4 random images\n",
    "\"\"\"fig, axs=plt.subplots(ncols=4, figsize=(20,20))\n",
    "for i in range(4):\n",
    "  axs[i].imshow(train_generator[i][0][0], cmap='gray', vmin=0, vmax=1)\n",
    "#axs[0].plt.show()\"\"\""
   ]
  },
  {
   "cell_type": "markdown",
   "id": "a9656c44",
   "metadata": {},
   "source": [
    "## Creating weights"
   ]
  },
  {
   "cell_type": "code",
   "execution_count": 63,
   "id": "ifmyrLuZQNdN",
   "metadata": {
    "colab": {
     "base_uri": "https://localhost:8080/"
    },
    "id": "ifmyrLuZQNdN",
    "outputId": "7907662f-b44b-42ec-9d36-91afc3c375aa"
   },
   "outputs": [
    {
     "name": "stdout",
     "output_type": "stream",
     "text": [
      "{0: 0.6051779935275081, 1: 0.9739583333333334, 2: 3.1166666666666667}\n"
     ]
    }
   ],
   "source": [
    "import numpy as np ## Calculating the class weights\n",
    "from sklearn.utils.class_weight import compute_class_weight\n",
    "\n",
    "class_weighing = compute_class_weight(class_weight='balanced', classes=np.unique(train_generator.classes), y=train_generator.classes)\n",
    "class_weights=dict(zip(np.unique(train_generator.classes), class_weighing))\n",
    "\n",
    "print(class_weights)"
   ]
  },
  {
   "cell_type": "markdown",
   "id": "83392058",
   "metadata": {},
   "source": [
    "## Creating Model"
   ]
  },
  {
   "cell_type": "code",
   "execution_count": 64,
   "id": "32d0cb57",
   "metadata": {},
   "outputs": [],
   "source": [
    "from keras.preprocessing.image import ImageDataGenerator\n",
    "from keras.models import Sequential,Model\n",
    "from keras.layers import Conv2D, MaxPooling2D,BatchNormalization\n",
    "from keras.layers import Activation, Dropout, Flatten, Dense,GlobalAveragePooling2D\n",
    "from keras.optimizers import SGD\n",
    "import keras"
   ]
  },
  {
   "cell_type": "code",
   "execution_count": 65,
   "id": "202a44ad",
   "metadata": {
    "colab": {
     "base_uri": "https://localhost:8080/",
     "height": 209
    },
    "id": "202a44ad",
    "outputId": "85e84d50-9fda-46f3-88df-fb8f1808d99a"
   },
   "outputs": [
    {
     "name": "stdout",
     "output_type": "stream",
     "text": [
      "Model: \"model_11\"\n",
      "_________________________________________________________________\n",
      " Layer (type)                Output Shape              Param #   \n",
      "=================================================================\n",
      " input_26 (InputLayer)       [(None, 512, 512, 3)]     0         \n",
      "                                                                 \n",
      " vgg16 (Functional)          (None, 16, 16, 512)       14714688  \n",
      "|¯¯¯¯¯¯¯¯¯¯¯¯¯¯¯¯¯¯¯¯¯¯¯¯¯¯¯¯¯¯¯¯¯¯¯¯¯¯¯¯¯¯¯¯¯¯¯¯¯¯¯¯¯¯¯¯¯¯¯¯¯¯¯|\n",
      "| input_25 (InputLayer)     [(None, 512, 512, 3)]     0         |\n",
      "|                                                               |\n",
      "| block1_conv1 (Conv2D)     (None, 512, 512, 64)      1792      |\n",
      "|                                                               |\n",
      "| block1_conv2 (Conv2D)     (None, 512, 512, 64)      36928     |\n",
      "|                                                               |\n",
      "| block1_pool (MaxPooling2D)  (None, 256, 256, 64)    0         |\n",
      "|                                                               |\n",
      "| block2_conv1 (Conv2D)     (None, 256, 256, 128)     73856     |\n",
      "|                                                               |\n",
      "| block2_conv2 (Conv2D)     (None, 256, 256, 128)     147584    |\n",
      "|                                                               |\n",
      "| block2_pool (MaxPooling2D)  (None, 128, 128, 128)   0         |\n",
      "|                                                               |\n",
      "| block3_conv1 (Conv2D)     (None, 128, 128, 256)     295168    |\n",
      "|                                                               |\n",
      "| block3_conv2 (Conv2D)     (None, 128, 128, 256)     590080    |\n",
      "|                                                               |\n",
      "| block3_conv3 (Conv2D)     (None, 128, 128, 256)     590080    |\n",
      "|                                                               |\n",
      "| block3_pool (MaxPooling2D)  (None, 64, 64, 256)     0         |\n",
      "|                                                               |\n",
      "| block4_conv1 (Conv2D)     (None, 64, 64, 512)       1180160   |\n",
      "|                                                               |\n",
      "| block4_conv2 (Conv2D)     (None, 64, 64, 512)       2359808   |\n",
      "|                                                               |\n",
      "| block4_conv3 (Conv2D)     (None, 64, 64, 512)       2359808   |\n",
      "|                                                               |\n",
      "| block4_pool (MaxPooling2D)  (None, 32, 32, 512)     0         |\n",
      "|                                                               |\n",
      "| block5_conv1 (Conv2D)     (None, 32, 32, 512)       2359808   |\n",
      "|                                                               |\n",
      "| block5_conv2 (Conv2D)     (None, 32, 32, 512)       2359808   |\n",
      "|                                                               |\n",
      "| block5_conv3 (Conv2D)     (None, 32, 32, 512)       2359808   |\n",
      "|                                                               |\n",
      "| block5_pool (MaxPooling2D)  (None, 16, 16, 512)     0         |\n",
      "¯¯¯¯¯¯¯¯¯¯¯¯¯¯¯¯¯¯¯¯¯¯¯¯¯¯¯¯¯¯¯¯¯¯¯¯¯¯¯¯¯¯¯¯¯¯¯¯¯¯¯¯¯¯¯¯¯¯¯¯¯¯¯¯¯\n",
      " global_average_pooling2d_10  (None, 512)              0         \n",
      "  (GlobalAveragePooling2D)                                       \n",
      "                                                                 \n",
      " dense_19 (Dense)            (None, 3)                 1539      \n",
      "                                                                 \n",
      "=================================================================\n",
      "Total params: 14,716,227\n",
      "Trainable params: 7,080,963\n",
      "Non-trainable params: 7,635,264\n",
      "_________________________________________________________________\n"
     ]
    }
   ],
   "source": [
    "base_model = keras.applications.VGG16(\n",
    "    weights='imagenet',\n",
    "    input_shape=(image_size, image_size, 3),\n",
    "    include_top=False)\n",
    "\n",
    "#base_model.trainable = False\n",
    "inputs = keras.Input(shape=(image_size, image_size, 3))\n",
    "\n",
    "for layer in base_model.layers[:15]:\n",
    "   layer.trainable = False\n",
    "for layer in base_model.layers[15:]:\n",
    "   layer.trainable = True\n",
    "\n",
    "x = base_model(inputs)\n",
    "\n",
    "x = keras.layers.GlobalAveragePooling2D()(x)\n",
    "#x = keras.layers.Dropout(0.15)(x)  # Regularize with dropout\n",
    "#x=keras.layers.Dense(100)(x)\n",
    "#x=keras.layers.Dense(100)(x)\n",
    "outputs = keras.layers.Dense(3)(x)\n",
    "model = keras.Model(inputs, outputs)\n",
    "\n",
    "\n",
    "model.summary(expand_nested=True)"
   ]
  },
  {
   "cell_type": "markdown",
   "id": "cebce2e3",
   "metadata": {},
   "source": [
    "### Compile"
   ]
  },
  {
   "cell_type": "code",
   "execution_count": 66,
   "id": "KBU3llMXJ7fU",
   "metadata": {
    "id": "KBU3llMXJ7fU"
   },
   "outputs": [],
   "source": [
    "model.compile(optimizer=keras.optimizers.Adam(), #SGD or adam\n",
    "              loss='categorical_crossentropy' ,\n",
    "              metrics=['accuracy'])"
   ]
  },
  {
   "cell_type": "markdown",
   "id": "676434ca",
   "metadata": {},
   "source": [
    "### Generating Callbacks"
   ]
  },
  {
   "cell_type": "code",
   "execution_count": 67,
   "id": "S9fAKukkNu8U",
   "metadata": {
    "id": "S9fAKukkNu8U"
   },
   "outputs": [],
   "source": [
    "from keras.callbacks import ModelCheckpoint, EarlyStopping\n",
    "\n",
    "filepath=\"/root/saved_models/{epoch:02d}-{val_accuracy:.2f}.hdf5\"\n",
    "\n",
    "checkpoint= ModelCheckpoint(filepath,monitor='val_accuracy',verbose=0,save_best_only=True,mode='max')\n",
    "early_stop=EarlyStopping(monitor='val_accuracy',patience=50,verbose=0) #only change patience\n",
    "\n",
    "callback_list=[checkpoint,early_stop]#add the callbacks used"
   ]
  },
  {
   "cell_type": "markdown",
   "id": "18164a26",
   "metadata": {},
   "source": [
    "### Model.Fit()"
   ]
  },
  {
   "cell_type": "code",
   "execution_count": null,
   "id": "AKvvQGGHK9Ew",
   "metadata": {
    "colab": {
     "base_uri": "https://localhost:8080/"
    },
    "id": "AKvvQGGHK9Ew",
    "outputId": "0abf91fb-43f0-4b3c-a6e8-862d660cd52d",
    "scrolled": false
   },
   "outputs": [
    {
     "name": "stdout",
     "output_type": "stream",
     "text": [
      "Epoch 1/100\n"
     ]
    },
    {
     "name": "stderr",
     "output_type": "stream",
     "text": [
      "2023-04-01 21:01:21.975130: I tensorflow/core/common_runtime/executor.cc:1197] [/device:CPU:0] (DEBUG INFO) Executor start aborting (this does not indicate an error and you can ignore this message): INVALID_ARGUMENT: You must feed a value for placeholder tensor 'Placeholder/_0' with dtype int32\n",
      "\t [[{{node Placeholder/_0}}]]\n"
     ]
    },
    {
     "name": "stdout",
     "output_type": "stream",
     "text": [
      "35/35 [==============================] - ETA: 0s - loss: 5.8505 - accuracy: 0.3725"
     ]
    },
    {
     "name": "stderr",
     "output_type": "stream",
     "text": [
      "2023-04-01 21:01:29.263045: I tensorflow/core/common_runtime/executor.cc:1197] [/device:CPU:0] (DEBUG INFO) Executor start aborting (this does not indicate an error and you can ignore this message): INVALID_ARGUMENT: You must feed a value for placeholder tensor 'Placeholder/_0' with dtype int32\n",
      "\t [[{{node Placeholder/_0}}]]\n"
     ]
    },
    {
     "name": "stdout",
     "output_type": "stream",
     "text": [
      "35/35 [==============================] - 8s 222ms/step - loss: 5.8505 - accuracy: 0.3725 - val_loss: 2.6863 - val_accuracy: 0.4167\n",
      "Epoch 2/100\n",
      "35/35 [==============================] - 8s 214ms/step - loss: 7.1574 - accuracy: 0.3229 - val_loss: 13.4317 - val_accuracy: 0.4167\n",
      "Epoch 3/100\n",
      "35/35 [==============================] - 7s 212ms/step - loss: 10.7745 - accuracy: 0.3523 - val_loss: 13.4317 - val_accuracy: 0.4167\n",
      "Epoch 4/100\n",
      "35/35 [==============================] - 8s 213ms/step - loss: 11.0609 - accuracy: 0.3523 - val_loss: 13.4317 - val_accuracy: 0.4167\n",
      "Epoch 5/100\n",
      "35/35 [==============================] - 7s 212ms/step - loss: 10.6000 - accuracy: 0.3229 - val_loss: 13.4317 - val_accuracy: 0.4167\n",
      "Epoch 6/100\n",
      "35/35 [==============================] - 8s 213ms/step - loss: 10.6000 - accuracy: 0.3229 - val_loss: 13.4317 - val_accuracy: 0.4167\n",
      "Epoch 7/100\n",
      "35/35 [==============================] - 8s 214ms/step - loss: 10.6000 - accuracy: 0.3229 - val_loss: 13.4317 - val_accuracy: 0.4167\n",
      "Epoch 8/100\n",
      "35/35 [==============================] - 8s 213ms/step - loss: 10.7745 - accuracy: 0.3523 - val_loss: 13.4317 - val_accuracy: 0.4167\n",
      "Epoch 9/100\n",
      "35/35 [==============================] - 7s 211ms/step - loss: 10.6000 - accuracy: 0.3229 - val_loss: 13.4317 - val_accuracy: 0.4167\n",
      "Epoch 10/100\n",
      "35/35 [==============================] - 8s 221ms/step - loss: 10.6000 - accuracy: 0.3229 - val_loss: 13.4317 - val_accuracy: 0.4167\n",
      "Epoch 11/100\n",
      "35/35 [==============================] - 8s 213ms/step - loss: 11.0609 - accuracy: 0.3523 - val_loss: 13.4317 - val_accuracy: 0.4167\n",
      "Epoch 12/100\n",
      "35/35 [==============================] - 7s 213ms/step - loss: 10.6000 - accuracy: 0.3229 - val_loss: 13.4317 - val_accuracy: 0.4167\n",
      "Epoch 13/100\n",
      "35/35 [==============================] - 7s 213ms/step - loss: 11.0609 - accuracy: 0.3523 - val_loss: 13.4317 - val_accuracy: 0.4167\n",
      "Epoch 14/100\n",
      "35/35 [==============================] - 7s 211ms/step - loss: 10.7745 - accuracy: 0.3523 - val_loss: 13.4317 - val_accuracy: 0.4167\n",
      "Epoch 15/100\n",
      "35/35 [==============================] - 8s 214ms/step - loss: 10.7745 - accuracy: 0.3523 - val_loss: 13.4317 - val_accuracy: 0.4167\n",
      "Epoch 16/100\n",
      "35/35 [==============================] - 8s 214ms/step - loss: 10.7745 - accuracy: 0.3523 - val_loss: 13.4317 - val_accuracy: 0.4167\n",
      "Epoch 17/100\n",
      "35/35 [==============================] - 8s 213ms/step - loss: 10.6000 - accuracy: 0.3229 - val_loss: 13.4317 - val_accuracy: 0.4167\n",
      "Epoch 18/100\n",
      "35/35 [==============================] - 8s 214ms/step - loss: 10.9168 - accuracy: 0.3431 - val_loss: 13.4317 - val_accuracy: 0.4167\n",
      "Epoch 19/100\n",
      "35/35 [==============================] - 7s 210ms/step - loss: 10.7745 - accuracy: 0.3523 - val_loss: 13.4317 - val_accuracy: 0.4167\n",
      "Epoch 20/100\n",
      "35/35 [==============================] - 7s 212ms/step - loss: 10.7745 - accuracy: 0.3523 - val_loss: 13.4317 - val_accuracy: 0.4167\n",
      "Epoch 21/100\n",
      "35/35 [==============================] - 7s 211ms/step - loss: 10.6000 - accuracy: 0.3229 - val_loss: 13.4317 - val_accuracy: 0.4167\n",
      "Epoch 22/100\n",
      "35/35 [==============================] - 8s 214ms/step - loss: 10.6545 - accuracy: 0.3321 - val_loss: 13.4317 - val_accuracy: 0.4167\n",
      "Epoch 23/100\n",
      "13/35 [==========>...................] - ETA: 3s - loss: 10.7122 - accuracy: 0.3057"
     ]
    }
   ],
   "source": [
    "%%notify\n",
    "history=model.fit(\n",
    "        train_generator,\n",
    "        steps_per_epoch=len(train_generator.classes)//batch_size,\n",
    "        verbose=1, \n",
    "        epochs=100,  #change this\n",
    "        validation_data=validation_generator,\n",
    "        validation_steps=len(validation_generator.classes)//batch_size,\n",
    "        callbacks=callback_list,\n",
    "        class_weight=class_weights)\n",
    "print(\"Done bro\")"
   ]
  },
  {
   "cell_type": "markdown",
   "id": "53bbb010",
   "metadata": {},
   "source": [
    "### Curves"
   ]
  },
  {
   "cell_type": "code",
   "execution_count": null,
   "id": "Bm4aFTAGXxZG",
   "metadata": {
    "id": "Bm4aFTAGXxZG"
   },
   "outputs": [],
   "source": [
    "#loss curve\n",
    "fig, axs=plt.subplots(ncols=2,figsize=(15, 5))#, figsize=(20,20))\n",
    "loss = history.history['loss']\n",
    "val_loss = history.history['val_loss']\n",
    "epochs = range(1, len(loss) + 1)\n",
    "axs[0].plot(epochs, loss, 'y', label='Training loss')\n",
    "axs[0].plot(epochs, val_loss, 'r', label='Validation loss')\n",
    "axs[0].set(title='Loss', xlabel='Epochs', ylabel='Epochs');\n",
    "\n",
    "#accuracy curve\n",
    "acc = history.history['accuracy']\n",
    "val_acc = history.history['val_accuracy']\n",
    "axs[1].plot(epochs, acc, 'y', label='Training acc')\n",
    "axs[1].plot(epochs, val_acc, 'r', label='Validation acc')\n",
    "axs[1].set(title='Accuracy', xlabel='Epochs', ylabel='Epochs');"
   ]
  },
  {
   "cell_type": "code",
   "execution_count": null,
   "id": "80ad9955",
   "metadata": {
    "scrolled": true
   },
   "outputs": [],
   "source": [
    "\"\"\"prediction_classes = np.array([])\n",
    "true_classes =  np.array([])\n",
    "i=0\n",
    "for x, y in validation_generator:\n",
    "    if i==len(validation_generator.classes):\n",
    "        break    \n",
    "    i=i+1\n",
    "    prediction_classes = np.concatenate([prediction_classes,np.argmax(model.predict(x,verbose=0), axis = -1)])\n",
    "    true_classes = np.concatenate([true_classes, np.argmax(y, axis=-1)])\n",
    "print(classification_report(true_classes, prediction_classes))\"\"\""
   ]
  },
  {
   "cell_type": "code",
   "execution_count": null,
   "id": "28026f26",
   "metadata": {},
   "outputs": [],
   "source": [
    "#model.save('to_continue.h5')\n",
    "#continue_model=load_model('to_continue.h5')"
   ]
  },
  {
   "cell_type": "markdown",
   "id": "b4ed3a7c",
   "metadata": {},
   "source": [
    "## Evaluating Model"
   ]
  },
  {
   "cell_type": "code",
   "execution_count": null,
   "id": "c9152a48",
   "metadata": {},
   "outputs": [],
   "source": [
    "from keras.models import load_model\n",
    "from sklearn.metrics import classification_report, confusion_matrix\n",
    "from sklearn.metrics import ConfusionMatrixDisplay\n",
    "import numpy as np\n",
    "\n",
    "#model = load_model('/root/44-0.82.hdf5')"
   ]
  },
  {
   "cell_type": "code",
   "execution_count": null,
   "id": "8076d565",
   "metadata": {},
   "outputs": [],
   "source": [
    "#new_model=load_model(\".hdf5\")"
   ]
  },
  {
   "cell_type": "code",
   "execution_count": null,
   "id": "1uTXxiYXZ8Tl",
   "metadata": {
    "id": "1uTXxiYXZ8Tl",
    "scrolled": false
   },
   "outputs": [],
   "source": [
    "data_eval=validation_generator\n",
    "model_eval=model\n",
    "results=model_eval.evaluate_generator(data_eval, steps=len(data_eval.classes)//batch_size)\n",
    "print(\"Loss and accuracy are\", results)\n",
    "Y_pred = model_eval.predict_generator(data_eval, steps=len(data_eval.classes)//batch_size+1)\n",
    "#print(train_generator.classes)\n",
    "y_pred = np.argmax(Y_pred, axis=1)\n",
    "#print(train_generator.classes)\n",
    "#print(y_pred)\n",
    "#print(X)\n",
    "        \n",
    "print('Confusion Matrix')\n",
    "cm=confusion_matrix(data_eval.classes,y_pred)\n",
    "target_names = ['NoDR', 'mildDR','seriousDR']\n",
    "disp = ConfusionMatrixDisplay(confusion_matrix=cm, display_labels=target_names)\n",
    "disp.plot(cmap=plt.cm.Blues)\n",
    "plt.show()\n",
    "\n",
    "print('Classification Report')\n",
    "\n",
    "print(classification_report(data_eval.classes,y_pred, target_names=target_names))"
   ]
  }
 ],
 "metadata": {
  "accelerator": "GPU",
  "colab": {
   "provenance": []
  },
  "gpuClass": "standard",
  "kernelspec": {
   "display_name": "Python 3 (ipykernel)",
   "language": "python",
   "name": "python3"
  },
  "language_info": {
   "codemirror_mode": {
    "name": "ipython",
    "version": 3
   },
   "file_extension": ".py",
   "mimetype": "text/x-python",
   "name": "python",
   "nbconvert_exporter": "python",
   "pygments_lexer": "ipython3",
   "version": "3.8.10"
  }
 },
 "nbformat": 4,
 "nbformat_minor": 5
}
